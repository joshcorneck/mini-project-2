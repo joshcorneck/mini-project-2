{
 "cells": [
  {
   "cell_type": "code",
   "execution_count": 271,
   "metadata": {},
   "outputs": [],
   "source": [
    "import numpy as np\n",
    "import pandas as pd\n",
    "import matplotlib.pyplot as plt"
   ]
  },
  {
   "attachments": {},
   "cell_type": "markdown",
   "metadata": {},
   "source": [
    "# Multivariate Hawkes process\n",
    "\n",
    "## Notation\n",
    "\n",
    "We consider a set of users enumerated by the set $\\{1,2,\\cdots,U\\}$ that each have a multivariate Hawkes process definining their violations of a set of $P$ policies. The time of the $k^{th}$ violation of policy $p \\in \\{1,2,\\cdots,P\\}$ by user $u \\in \\{1,2,\\cdots,U\\}$ is denoted by $t_{upk}$. Each process has a counting process associated with their violation of each policy, which we denote by $N_{up} = \\sum_{k=1}^{M_{up}}\\mathbb{I}_{[0,t]}(t_{upk})$, where $M_{up}$ is the number of violations of policy $p$ by user $u$. In the simple case, we take the intensity function for the $p^{th}$ process for user $u$ to be:\n",
    "\n",
    "$\\lambda_{up}(t|\\mathcal{H}_{ut}) = \\lambda_p + \\sum_{j=1}^P\\sum_{k=1}^{N_{uj}(t)}\\beta_{jp}\\exp\\left\\{-\\theta_{jp}(t - t_{ujk})\\right\\}$\n",
    "\n",
    "Note that this says that the parameters $\\{\\beta_{jp}\\}$, $\\{\\theta_{jp}\\}$ are the same for each user (i.e. that each user violates each policy according to the same Hawkes process, and that the interactions between the violation of each policy is the same). Furthermore, the background rate for process $p$, $\\lambda_p$, is considered to be constant for each user.\n",
    "\n",
    "## Simple example\n",
    "\n",
    "We start by considering the simplest case. Namely, we take there to be one user and $P=2$ policies. This corresponds to a bivariate Hawkes process. We won't enforce symmetry between the processes however, meaning that mutual excitation is asymmetric. This gives a parameters: $\\lambda = (\\lambda_1, \\lambda_2)^T$, $\\beta = (\\beta_{11}, \\beta_{21}, \\beta_{12}, \\beta_{22})^T$ and $\\theta = (\\theta_{11}, \\theta_{21}, \\theta_{12}, \\theta_{22})^T$.\n",
    "\n",
    "The algorithm implemented here is from Lim et al. (2016)."
   ]
  },
  {
   "cell_type": "code",
   "execution_count": 413,
   "metadata": {},
   "outputs": [],
   "source": [
    "# Define the parameters\n",
    "U = 1; P = 2\n",
    "lam = np.array([1, 1])\n",
    "theta = np.array([5, 3, 2, 4]).reshape((P,P)) # Input as (theta_{11}, theta_{21},...)\n",
    "beta = np.array([1, 0, 0, 1]).reshape((P,P))\n",
    "T_max = 50\n",
    "\n",
    "def multivariate_Hawkes(P: int, lam: np.array, theta: np.array,\n",
    "                        beta: np.array, T_max: int) -> np.array:\n",
    "    \"\"\"\n",
    "    A function to simulate from a multivariate Hawkes process. Parameters:\n",
    "        - P: number of processes.\n",
    "        - lam: array of baseline intensities for each process.\n",
    "        - beta: array of shape (P^2, ) of excitation parameters, which is input\n",
    "                in the form (beta_11, beta_21, ..., beta_P-1P, beta_PP).\n",
    "        - theta: array of shape (P^2, ) of decay parameters, with the same form\n",
    "                    as beta.\n",
    "        - T_max: length of the time interval (assuming zero start).\n",
    "    \"\"\"\n",
    "\n",
    "    lam_ints = np.zeros((P, P)) # Stores lambda_m^i(r_{j-1}) in the notation of Lim et al. (2016)\n",
    "    r = 0. # Initialise the jump time \n",
    "    a_ip = np.zeros((P+1, P)) # Matrix s.t. a_ip[i,p] = a^i_{pj} on iteration j\n",
    "    t_jp = [[] for _ in range(P)] # List of lists to store event j for process p\n",
    "    t_process = [] # List to store the type of each arrival\n",
    "\n",
    "    while r < T_max:\n",
    "        for p in range(P):\n",
    "            a_ip[0,p] = np.random.exponential(scale=1/lam[p], size=1)[0] # Numpy parameterises by scale\n",
    "            for i in range(P):\n",
    "                u = np.random.uniform(size=1)[0]\n",
    "                if u < (1 - np.exp(-lam_ints[i, p] / theta[i,p])):\n",
    "                    a_ip[i+1,p] = (\n",
    "                        -np.log(1 + theta[i,p] * np.log(1 - u) / lam_ints[i, p]) / theta[i,p]\n",
    "                    )\n",
    "                else:\n",
    "                    a_ip[i+1, p] = np.inf # Index shift cos we count 0 -> P inc.\n",
    "\n",
    "        # Find the minimum value of a_ip (call this d) and update r\n",
    "        d = np.min(a_ip)\n",
    "        r += d\n",
    "\n",
    "        if r > T_max:\n",
    "            pass\n",
    "        else:\n",
    "            min_idx = np.argwhere(a_ip == np.min(a_ip)).reshape((2,))\n",
    "            i_star = min_idx[0]; p_star = min_idx[1]\n",
    "\n",
    "            # Update lam_ints matrix\n",
    "            for p in range(P):\n",
    "                for i in range(P):\n",
    "                    if i == p_star:\n",
    "                        lam_ints[i,p] *= np.exp(-theta[i,p] * d)\n",
    "                        lam_ints[i,p] += beta[i,p]\n",
    "                    else:\n",
    "                        lam_ints[i,p] *= np.exp(-theta[i,p] * d)\n",
    "\n",
    "            # Store the time in the appropriate list\n",
    "            t_jp[p_star].append(r)\n",
    "            t_process.append(p_star)\n",
    "\n",
    "    t_arrival = np.concatenate(t_jp, axis=0)\n",
    "\n",
    "    t_arrivals_all = np.concatenate(\n",
    "        [t_arrival.reshape((len(t_arrival), 1)),\n",
    "        np.array(t_process).reshape((len(t_process),1))],\n",
    "        axis=1\n",
    "    )\n",
    "\n",
    "    return t_arrivals_all"
   ]
  },
  {
   "attachments": {},
   "cell_type": "markdown",
   "metadata": {},
   "source": [
    "Here we write a function to plot the conditional intensity function of a Hawkes process."
   ]
  },
  {
   "cell_type": "code",
   "execution_count": 408,
   "metadata": {},
   "outputs": [],
   "source": [
    "def compute_single_excitation(beta, theta, t_arrival, t_eval):\n",
    "    \"\"\"\n",
    "    Compute the excitation function (without the constant term) for\n",
    "    one of the processes in a multivariate process. This can then be\n",
    "    summed to compute the total excitation function. Parameters:\n",
    "        - beta: excitation parameter.\n",
    "        - theta: decay parameter.\n",
    "        - t_arrival: array of the arrival times.\n",
    "        - t_eval: array of times to evaluate at. \n",
    "    \"\"\"\n",
    "    exc_func = np.array([(beta * np.exp(-theta * (t - t_arrival[t_arrival < t]))).sum() \n",
    "                for t in t_eval])\n",
    "\n",
    "    return exc_func\n",
    "\n",
    "def plot_intensity(P: int, t_eval: np.array, ints_func: np.array, t_arrivals_all: np.array):\n",
    "    \"\"\"\n",
    "    Input an array containing evaluations of an intensity function and an\n",
    "    array of times corresponding to where the intensity function was evaluated.\n",
    "    This is then plotted. Parameters:\n",
    "        - P: number of processes\n",
    "        - t_eval: array of evaluation times.\n",
    "        - ints_func: array of intensity evaluations.\n",
    "        - t_arrivals_all: array with column 1 being a list of arrival times and \n",
    "                          column 2 the process to which that arrival time belonged.\n",
    "    \"\"\"\n",
    "    baseline = ints_func.min()\n",
    "    plt.plot(t_eval, ints_func);\n",
    "    for i in range(P):\n",
    "        t_arrival = t_arrivals_all[t_arrivals_all[:,1] == i, 0]\n",
    "        plt.scatter(t_arrival, \n",
    "                    np.tile([baseline - baseline/(i+2)], len(t_arrival)), \n",
    "                    marker='X',  \n",
    "                    linewidths=0.1);\n",
    "\n",
    "    plt.xlabel('t'); plt.ylabel(r\"$\\lambda(t)$\")\n",
    "    plt.show()\n",
    "\n",
    "def compute_full_intensity_up(lam_p: float, betas_p: np.array, \n",
    "                              thetas_p: np.array, t_arrivals_all: np.array, \n",
    "                              t_eval: np.array, plot: bool):\n",
    "    \"\"\"\n",
    "    Compute the full conditional intensity function for a single user and process \n",
    "    combination. Namely, this will sum the contributions from each process and \n",
    "    add the basline intensity. Parameters:\n",
    "        - lam_p: lambda for the process and user.T\n",
    "        - betas_p: list of beta values for the user.\n",
    "        - thetas_p: list of the theta values for the user.\n",
    "        - t_arrivals_all: array with column 1 b        beta = beta_jph[j]; theta = theta_jph[j]\n",
    "eing a list of arrival times and \n",
    "                column 2 the process to which that arrival time belonged.\n",
    "        - t_eval: an array of the time values to evaluate the excitation\n",
    "                 function at.\n",
    "        - plot: Boolean for whether to plot the intensity.\n",
    "    \"\"\"\n",
    "    # Find the number of processes \n",
    "    P = len(betas_p)\n",
    "\n",
    "    # Initialise the excitation function with the baseline intensity.\n",
    "    # We then loop over the processes and add to this list to compute total \n",
    "    # value at time t.\n",
    "    ints_func = np.array([lam_p] * len(t_eval), dtype=float)\n",
    "    for i in range(P):\n",
    "        t_arrival = t_arrivals_all[t_arrivals_all[:,1] == i, 0]\n",
    "        ints_func += compute_single_excitation(betas_p[i], thetas_p[i], t_arrival, t_eval)\n",
    "\n",
    "    if plot:\n",
    "        plot_intensity(P, t_eval, ints_func, t_arrivals_all)\n",
    "    else:\n",
    "        return ints_func"
   ]
  },
  {
   "attachments": {},
   "cell_type": "markdown",
   "metadata": {},
   "source": [
    "## Grouped Hawkes process\n",
    "\n",
    "We now turn our attention to the grouped process on a graph. Namely, wherein there is a group structure within the users. Each group is then assumed to have the same parameters for each Hawkes process."
   ]
  },
  {
   "cell_type": "code",
   "execution_count": 1,
   "metadata": {},
   "outputs": [],
   "source": [
    "import numpy as np\n",
    "from grouped_graphical_hawkes import GroupedExponentialHawkes"
   ]
  },
  {
   "cell_type": "code",
   "execution_count": 73,
   "metadata": {},
   "outputs": [
    {
     "data": {
      "image/png": "[encoded data removed]",
      "text/plain": [
       "<Figure size 640x480 with 1 Axes>"
      ]
     },
     "metadata": {},
     "output_type": "display_data"
    }
   ],
   "source": [
    "ggh = GroupedExponentialHawkes(G=np.array([3, 2]), P=2, random_all=True)\n",
    "ggh.simulate_and_plot(1, 1, 1)"
   ]
  },
  {
   "cell_type": "code",
   "execution_count": 6,
   "metadata": {},
   "outputs": [
    {
     "data": {
      "text/plain": [
       "2"
      ]
     },
     "execution_count": 6,
     "metadata": {},
     "output_type": "execute_result"
    }
   ],
   "source": [
    "ggh.G[1]"
   ]
  },
  {
   "cell_type": "code",
   "execution_count": 33,
   "metadata": {},
   "outputs": [],
   "source": [
    "class Employee():\n",
    "\n",
    "    def __init__(self, number):\n",
    "        self.digit = number\n",
    "\n",
    "    def calculateSalary(self):\n",
    "        self.salary = self.digit ** 3"
   ]
  },
  {
   "cell_type": "code",
   "execution_count": 34,
   "metadata": {},
   "outputs": [],
   "source": [
    "employee1 = Employee(number=1)\n",
    "employee2 = Employee(number=2)"
   ]
  },
  {
   "cell_type": "code",
   "execution_count": 40,
   "metadata": {},
   "outputs": [
    {
     "data": {
      "text/plain": [
       "8"
      ]
     },
     "execution_count": 40,
     "metadata": {},
     "output_type": "execute_result"
    }
   ],
   "source": [
    "employee2.salary"
   ]
  }
 ],
 "metadata": {
  "kernelspec": {
   "display_name": "project2_venv",
   "language": "python",
   "name": "python3"
  },
  "language_info": {
   "codemirror_mode": {
    "name": "ipython",
    "version": 3
   },
   "file_extension": ".py",
   "mimetype": "text/x-python",
   "name": "python",
   "nbconvert_exporter": "python",
   "pygments_lexer": "ipython3",
   "version": "3.10.6"
  },
  "orig_nbformat": 4,
  "vscode": {
   "interpreter": {
    "hash": "91817a196e316e3db1c2c4e7baa1c6094db77e05ae0047b8a7b1fa203c804c34"
   }
  }
 },
 "nbformat": 4,
 "nbformat_minor": 2
}
